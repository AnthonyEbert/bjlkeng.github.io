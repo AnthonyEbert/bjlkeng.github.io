{
 "cells": [
  {
   "cell_type": "code",
   "execution_count": 76,
   "metadata": {
    "collapsed": false
   },
   "outputs": [],
   "source": [
    "%matplotlib inline\n",
    "import matplotlib\n",
    "import matplotlib.pyplot as plt\n",
    "\n",
    "import numpy as np\n",
    "import scipy\n",
    "import pandas as pd"
   ]
  },
  {
   "cell_type": "markdown",
   "metadata": {},
   "source": [
    "### Generate Samples"
   ]
  },
  {
   "cell_type": "code",
   "execution_count": 237,
   "metadata": {
    "collapsed": false
   },
   "outputs": [
    {
     "data": {
      "text/html": [
       "<div>\n",
       "<table border=\"1\" class=\"dataframe\">\n",
       "  <thead>\n",
       "    <tr style=\"text-align: right;\">\n",
       "      <th></th>\n",
       "      <th>mu</th>\n",
       "      <th>tau</th>\n",
       "      <th>x</th>\n",
       "    </tr>\n",
       "  </thead>\n",
       "  <tbody>\n",
       "    <tr>\n",
       "      <th>count</th>\n",
       "      <td>10000.000000</td>\n",
       "      <td>10000.000000</td>\n",
       "      <td>10000.000000</td>\n",
       "    </tr>\n",
       "    <tr>\n",
       "      <th>mean</th>\n",
       "      <td>9.996974</td>\n",
       "      <td>6.010073</td>\n",
       "      <td>9.998252</td>\n",
       "    </tr>\n",
       "    <tr>\n",
       "      <th>std</th>\n",
       "      <td>0.197529</td>\n",
       "      <td>1.986607</td>\n",
       "      <td>0.283269</td>\n",
       "    </tr>\n",
       "    <tr>\n",
       "      <th>min</th>\n",
       "      <td>8.868218</td>\n",
       "      <td>1.331673</td>\n",
       "      <td>8.333208</td>\n",
       "    </tr>\n",
       "    <tr>\n",
       "      <th>5%</th>\n",
       "      <td>9.681737</td>\n",
       "      <td>3.123228</td>\n",
       "      <td>9.549230</td>\n",
       "    </tr>\n",
       "    <tr>\n",
       "      <th>25%</th>\n",
       "      <td>9.883356</td>\n",
       "      <td>4.579354</td>\n",
       "      <td>9.836677</td>\n",
       "    </tr>\n",
       "    <tr>\n",
       "      <th>50%</th>\n",
       "      <td>9.997508</td>\n",
       "      <td>5.785451</td>\n",
       "      <td>10.000371</td>\n",
       "    </tr>\n",
       "    <tr>\n",
       "      <th>75%</th>\n",
       "      <td>10.111119</td>\n",
       "      <td>7.226427</td>\n",
       "      <td>10.162363</td>\n",
       "    </tr>\n",
       "    <tr>\n",
       "      <th>95%</th>\n",
       "      <td>10.313272</td>\n",
       "      <td>9.535857</td>\n",
       "      <td>10.443691</td>\n",
       "    </tr>\n",
       "    <tr>\n",
       "      <th>max</th>\n",
       "      <td>11.205364</td>\n",
       "      <td>16.267770</td>\n",
       "      <td>12.656569</td>\n",
       "    </tr>\n",
       "  </tbody>\n",
       "</table>\n",
       "</div>"
      ],
      "text/plain": [
       "                 mu           tau             x\n",
       "count  10000.000000  10000.000000  10000.000000\n",
       "mean       9.996974      6.010073      9.998252\n",
       "std        0.197529      1.986607      0.283269\n",
       "min        8.868218      1.331673      8.333208\n",
       "5%         9.681737      3.123228      9.549230\n",
       "25%        9.883356      4.579354      9.836677\n",
       "50%        9.997508      5.785451     10.000371\n",
       "75%       10.111119      7.226427     10.162363\n",
       "95%       10.313272      9.535857     10.443691\n",
       "max       11.205364     16.267770     12.656569"
      ]
     },
     "execution_count": 237,
     "metadata": {},
     "output_type": "execute_result"
    }
   ],
   "source": [
    "def sample_normal(a_0, b_0, kappa_0, mu_0, N):\n",
    "    ''' Sample from a univariate normal distribution with normal, inv-gamma priors:\n",
    "    \n",
    "        tau ~ Gamma(a_0, b_0)\n",
    "        mu ~ N(mu_0, (kappa_0 * tau)^-1)\n",
    "        X ~ N(mu, tau^-1)\n",
    "    \n",
    "    '''\n",
    "    tau = np.random.gamma(a_0, 1.0 / b_0, N)\n",
    "    mu = np.random.normal(mu_0, 1. / (kappa_0 * tau))\n",
    "    x = np.random.normal(mu, 1. / tau)\n",
    "   \n",
    "    return pd.DataFrame({'tau': tau, 'mu': mu, 'x': x})\n",
    "\n",
    "\n",
    "a_0 = 9.0\n",
    "b_0 = 1.5\n",
    "kappa_0 = 1.0\n",
    "mu_0 = 10.0\n",
    "N=10000\n",
    "\n",
    "df = sample_normal(a_0, b_0, kappa_0, mu_0, N)\n",
    "df.describe(percentiles=[0.05, 0.25, 0.5, 0.75, 0.95])"
   ]
  },
  {
   "cell_type": "markdown",
   "metadata": {},
   "source": [
    "### Take a look at the distributions"
   ]
  },
  {
   "cell_type": "code",
   "execution_count": 238,
   "metadata": {
    "collapsed": false
   },
   "outputs": [
    {
     "data": {
      "text/plain": [
       "array([[<matplotlib.axes._subplots.AxesSubplot object at 0x7f4b91785be0>,\n",
       "        <matplotlib.axes._subplots.AxesSubplot object at 0x7f4b91eac588>],\n",
       "       [<matplotlib.axes._subplots.AxesSubplot object at 0x7f4b920e9080>,\n",
       "        <matplotlib.axes._subplots.AxesSubplot object at 0x7f4b92121780>]], dtype=object)"
      ]
     },
     "execution_count": 238,
     "metadata": {},
     "output_type": "execute_result"
    },
    {
     "data": {
      "image/png": "[encoded data removed]",
      "text/plain": [
       "<matplotlib.figure.Figure at 0x7f4b93455da0>"
      ]
     },
     "metadata": {},
     "output_type": "display_data"
    }
   ],
   "source": [
    "df.hist(bins=300, normed=True, color='green', alpha=0.3, linewidth=0.0, figsize=(12, 10))"
   ]
  },
  {
   "cell_type": "markdown",
   "metadata": {},
   "source": [
    "### Compute the mean-field approximation"
   ]
  },
  {
   "cell_type": "code",
   "execution_count": 245,
   "metadata": {
    "collapsed": false
   },
   "outputs": [
    {
     "name": "stdout",
     "output_type": "stream",
     "text": [
      "Finished after 6 iterations\n"
     ]
    },
    {
     "data": {
      "text/plain": [
       "(5009.5, 402.70548729837174, 124408.55930746233, 9.9982525557618533)"
      ]
     },
     "execution_count": 245,
     "metadata": {},
     "output_type": "execute_result"
    }
   ],
   "source": [
    "def mean_field(x, a_0, b_0, kappa_0, mu_0, N, etol=1e-8):\n",
    "    mu_n = (kappa_0 * mu_0 + N * x.mean()) / (kappa_0 + N)\n",
    "    E_q_mu = mu_n\n",
    "    kappa_n = 1.\n",
    "    a_n = a_0 + (N + 1.) / 2.\n",
    "    b_n = 1.\n",
    "    \n",
    "    for n in range(1, 1000):\n",
    "        E_q_mu2 = 1. / kappa_n + mu_n**2\n",
    "        \n",
    "        b_old = b_n\n",
    "        #b_n = (b_0 + \n",
    "        #     kappa_0 * (E_q_mu2 + mu_0 ** 2 - 2 * E_q_mu * mu_0) +\n",
    "        #     0.5 * ((x**2).sum() + N * E_q_mu2 - 2 * E_q_mu * x.sum()))\n",
    "        b_n = b_0 + 0.5 * ((kappa_0 + N) * (1. / kappa_n + mu_n**2) \n",
    "                         - 2 * (kappa_0 * mu_0 + x.sum()) * mu_n\n",
    "                         + (x**2).sum() + lambda_0 * mu_0 **2)\n",
    "        \n",
    "        kappa_old = kappa_n\n",
    "        kappa_n = (kappa_0 + N) * a_n / b_n\n",
    "        \n",
    "        if abs(b_n - b_old) + abs(kappa_n - kappa_old) < etol:\n",
    "            break\n",
    "            \n",
    "    print (\"Finished after %d iterations\" % n)\n",
    "    \n",
    "    return a_n, b_n, kappa_n, mu_n\n",
    "\n",
    "a_n, b_n, kappa_n, mu_n = mean_field(df['x'], a_0, b_0, kappa_0, mu_0, N)\n",
    "(a_n, b_n, kappa_n, mu_n)"
   ]
  },
  {
   "cell_type": "markdown",
   "metadata": {},
   "source": [
    "### Compare Exact Samples with Mean-Field Approximation"
   ]
  },
  {
   "cell_type": "code",
   "execution_count": 246,
   "metadata": {
    "collapsed": false
   },
   "outputs": [
    {
     "name": "stdout",
     "output_type": "stream",
     "text": [
      "[  9.99822772  10.00122231  10.00421689  10.00721148  10.01020607\n",
      "  10.01320066  10.01619525  10.01918984  10.02218443  10.02517902]\n",
      "[ 12.96287112  12.96586571  12.9688603   12.97185489  12.97484948\n",
      "  12.97784406  12.98083865  12.98383324  12.98682783  12.98982242]\n",
      "                  gamma        norm\n",
      "9.998228   1.290891e-48  418.894826\n",
      "10.001222  1.731999e-48    0.000000\n",
      "10.004217  2.322794e-48    0.000000\n",
      "10.007211  3.113716e-48    0.000000\n",
      "10.010206  4.172078e-48    0.000000\n"
     ]
    },
    {
     "data": {
      "image/png": "[encoded data removed]",
      "text/plain": [
       "<matplotlib.figure.Figure at 0x7f4b91a3bd68>"
      ]
     },
     "metadata": {},
     "output_type": "display_data"
    }
   ],
   "source": [
    "import scipy.stats as stats\n",
    "\n",
    "gamma = stats.gamma(a=a_n, scale=1. / b_n)\n",
    "#gamma = stats.gamma(a=2, scale=3)\n",
    "norm = stats.norm(loc=mu_n, scale=1. / kappa_n)\n",
    "\n",
    "x = np.linspace(min(gamma.ppf(0.001), norm.ppf(0.001)), \n",
    "                max(gamma.ppf(0.999), norm.ppf(0.999)), 1000)\n",
    "print(x[:10])\n",
    "print(x[-10:])\n",
    "gamma_samples = gamma.pdf(x)\n",
    "norm_samples = norm.pdf(x)\n",
    "\n",
    "approx = pd.DataFrame({'gamma': gamma_samples, 'norm': norm_samples}, index=x)\n",
    "\n",
    "print(approx.head())\n",
    "\n",
    "# Plot Histogram vs. Target PDF\n",
    "approx['gamma'].plot(color='blue', style='--', figsize=(12,10), linewidth=2.0)\n",
    "#pd.Series(df['tau']).hist(bins=300, normed=True, color='green',  alpha=0.3, linewidth=0.0)\n",
    "#approx['norm'].plot(color='blue', style='--', figsize=(12,10), linewidth=2.0)\n",
    "#pd.Series(df['mu']).hist(bins=300, normed=True, color='green',  alpha=0.3, linewidth=0.0)\n",
    "plt.legend(['Approx', 'Exact Samples'])\n",
    "plt.show()"
   ]
  },
  {
   "cell_type": "code",
   "execution_count": null,
   "metadata": {
    "collapsed": true
   },
   "outputs": [],
   "source": []
  },
  {
   "cell_type": "code",
   "execution_count": null,
   "metadata": {
    "collapsed": true
   },
   "outputs": [],
   "source": []
  }
 ],
 "metadata": {
  "kernelspec": {
   "display_name": "Python 3",
   "language": "python",
   "name": "python3"
  },
  "language_info": {
   "codemirror_mode": {
    "name": "ipython",
    "version": 3
   },
   "file_extension": ".py",
   "mimetype": "text/x-python",
   "name": "python",
   "nbconvert_exporter": "python",
   "pygments_lexer": "ipython3",
   "version": "3.4.3"
  }
 },
 "nbformat": 4,
 "nbformat_minor": 0
}
