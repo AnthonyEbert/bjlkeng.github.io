{
 "cells": [
  {
   "cell_type": "markdown",
   "metadata": {
    "collapsed": false
   },
   "source": [
    "One of the most common probability distributions is the normal (or Gaussian) distribution.  Many natural phenomena can be modelled using a normal distribution.  It's also of great importance due to its relation to the [Central Limit Theorem](https://en.wikipedia.org/wiki/Central_limit_theorem).\n",
    "\n",
    "In this post, we'll be reviewing the normal distribution and looking at how to draw samples from it using two methods.  One naive method using the central limit theorem, and another using the [Box-Muller transform](https://en.wikipedia.org/wiki/Box%E2%80%93Muller_transform).  As usual, some brief coverage of proofs and code will be included to help drive intuition.\n",
    "\n",
    "\n",
    "## Background\n",
    "\n",
    "Let's first start off covering some basics.  A normal distribution \\\\(N \\sim (\\mu, \\sigma)\\\\) has probability density function (PMF) and cumulative density function (CDF) shown here [<sup>[1]</sup>](#fn-1):\n",
    "\n",
    "$$ f_N(x) = \\frac{1}{\\sigma \\sqrt{2\\pi}}e^{-\\frac{(x-\\mu)^2}{2\\sigma}}    $$\n",
    "$$ F_N(x) = \\int_{-\\infty}^{x}f_N(t) dt $$\n",
    "\n",
    "The CDF doesn't have a nice closed form, so we'll just represent it here using the definition of CDF in terms of its PDF.  We can graph the PDF and CDF (images from [Wikipedia](https://en.wikipedia.org/wiki/Normal_distribution)):\n",
    "\n",
    "\n",
    "![alt text](https://github.com/adam-p/markdown-here/raw/master/src/common/images/icon48.png \"Logo Title Text 1\")\n",
    "\n"
   ]
  },
  {
   "cell_type": "markdown",
   "metadata": {},
   "source": [
    "## Notes\n",
    "\n",
    "List of Notes: [^1] \n",
    "\n",
    "[^1]: We'll use the convention of \\\\(f_X(x)\\\\) and \\\\(F_X(x)\\\\) to denote the PDF and CDF of random variable X, respectively.\n",
    "\n"
   ]
  }
 ],
 "metadata": {
  "kernelspec": {
   "display_name": "Python 3",
   "language": "python",
   "name": "python3"
  },
  "language_info": {
   "codemirror_mode": {
    "name": "ipython",
    "version": 3
   },
   "file_extension": ".py",
   "mimetype": "text/x-python",
   "name": "python",
   "nbconvert_exporter": "python",
   "pygments_lexer": "ipython3",
   "version": "3.4.3"
  }
 },
 "nbformat": 4,
 "nbformat_minor": 0
}
