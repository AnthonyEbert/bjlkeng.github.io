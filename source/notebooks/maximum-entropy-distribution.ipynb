{
 "cells": [
  {
   "cell_type": "code",
   "execution_count": 4,
   "metadata": {
    "collapsed": false
   },
   "outputs": [
    {
     "name": "stdout",
     "output_type": "stream",
     "text": [
      "Lambda = 0.0000\n",
      "p_1 = 0.1667\n",
      "p_2 = 0.1667\n",
      "p_3 = 0.1667\n",
      "p_4 = 0.1667\n",
      "p_5 = 0.1667\n",
      "p_6 = 0.1667\n"
     ]
    }
   ],
   "source": [
    "from numpy import exp\n",
    "from scipy.optimize import newton\n",
    "\n",
    "B = 3.5\n",
    "a = 1\n",
    "b = 6\n",
    "\n",
    "def z(lamb):\n",
    "    return 1. / sum(exp(-k*lamb) for k in range(a, b + 1))\n",
    "\n",
    "def f(lamb, B=B):\n",
    "    y = sum(k * exp(-k*lamb) for k in range(a, b + 1))\n",
    "    return y * z(lamb) - B\n",
    "\n",
    "def p(k, lamb):\n",
    "    return z(lamb) * exp(-k * lamb)\n",
    "\n",
    "lamb = newton(f, x0=0.5)\n",
    "print(\"Lambda = %.4f\" % lamb)\n",
    "for k in range(a, b + 1):\n",
    "    print(\"p_%d = %.4f\" % (k, p(k, lamb)))"
   ]
  },
  {
   "cell_type": "code",
   "execution_count": null,
   "metadata": {
    "collapsed": true
   },
   "outputs": [],
   "source": []
  }
 ],
 "metadata": {
  "kernelspec": {
   "display_name": "Python 3",
   "language": "python",
   "name": "python3"
  },
  "language_info": {
   "codemirror_mode": {
    "name": "ipython",
    "version": 3
   },
   "file_extension": ".py",
   "mimetype": "text/x-python",
   "name": "python",
   "nbconvert_exporter": "python",
   "pygments_lexer": "ipython3",
   "version": "3.4.3"
  }
 },
 "nbformat": 4,
 "nbformat_minor": 0
}
